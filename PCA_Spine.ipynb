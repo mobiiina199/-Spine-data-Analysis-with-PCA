{
 "cells": [
  {
   "cell_type": "code",
   "execution_count": 2,
   "metadata": {},
   "outputs": [],
   "source": [
    "import numpy as np\n",
    "import pandas as pd\n",
    "import matplotlib.pyplot as plt\n",
    "from sklearn.decomposition import PCA\n",
    "import seaborn as sns\n",
    "from sklearn.preprocessing import scale"
   ]
  },
  {
   "cell_type": "code",
   "execution_count": 3,
   "metadata": {},
   "outputs": [],
   "source": [
    "df = pd.read_csv('E:/data/data science/data course/DATASET/spine.csv')"
   ]
  },
  {
   "cell_type": "code",
   "execution_count": 5,
   "metadata": {},
   "outputs": [
    {
     "data": {
      "text/plain": [
       "PCA()"
      ]
     },
     "execution_count": 5,
     "metadata": {},
     "output_type": "execute_result"
    }
   ],
   "source": [
    "# PCA\n",
    "X=df.iloc[:,0:6]\n",
    "X=scale(X)\n",
    "pca=PCA()\n",
    "pca.fit(X)"
   ]
  },
  {
   "cell_type": "code",
   "execution_count": 10,
   "metadata": {},
   "outputs": [
    {
     "data": {
      "text/html": [
       "<div>\n",
       "<style scoped>\n",
       "    .dataframe tbody tr th:only-of-type {\n",
       "        vertical-align: middle;\n",
       "    }\n",
       "\n",
       "    .dataframe tbody tr th {\n",
       "        vertical-align: top;\n",
       "    }\n",
       "\n",
       "    .dataframe thead th {\n",
       "        text-align: right;\n",
       "    }\n",
       "</style>\n",
       "<table border=\"1\" class=\"dataframe\">\n",
       "  <thead>\n",
       "    <tr style=\"text-align: right;\">\n",
       "      <th></th>\n",
       "      <th>PC1</th>\n",
       "      <th>PC2</th>\n",
       "      <th>PC3</th>\n",
       "    </tr>\n",
       "  </thead>\n",
       "  <tbody>\n",
       "    <tr>\n",
       "      <th>PI</th>\n",
       "      <td>0.535142</td>\n",
       "      <td>-0.002194</td>\n",
       "      <td>-0.096069</td>\n",
       "    </tr>\n",
       "    <tr>\n",
       "      <th>PT</th>\n",
       "      <td>0.323585</td>\n",
       "      <td>0.527545</td>\n",
       "      <td>-0.648701</td>\n",
       "    </tr>\n",
       "    <tr>\n",
       "      <th>LL</th>\n",
       "      <td>0.457970</td>\n",
       "      <td>0.092875</td>\n",
       "      <td>0.152338</td>\n",
       "    </tr>\n",
       "    <tr>\n",
       "      <th>SS</th>\n",
       "      <td>0.445906</td>\n",
       "      <td>-0.396157</td>\n",
       "      <td>0.360313</td>\n",
       "    </tr>\n",
       "    <tr>\n",
       "      <th>PR</th>\n",
       "      <td>-0.143497</td>\n",
       "      <td>0.727756</td>\n",
       "      <td>0.585991</td>\n",
       "    </tr>\n",
       "    <tr>\n",
       "      <th>GS</th>\n",
       "      <td>0.423978</td>\n",
       "      <td>0.162777</td>\n",
       "      <td>0.271184</td>\n",
       "    </tr>\n",
       "  </tbody>\n",
       "</table>\n",
       "</div>"
      ],
      "text/plain": [
       "         PC1       PC2       PC3\n",
       "PI  0.535142 -0.002194 -0.096069\n",
       "PT  0.323585  0.527545 -0.648701\n",
       "LL  0.457970  0.092875  0.152338\n",
       "SS  0.445906 -0.396157  0.360313\n",
       "PR -0.143497  0.727756  0.585991\n",
       "GS  0.423978  0.162777  0.271184"
      ]
     },
     "execution_count": 10,
     "metadata": {},
     "output_type": "execute_result"
    }
   ],
   "source": [
    "W=pca.components_.T\n",
    "pd.DataFrame(W[:,:3],index=df.columns[:-1],columns=['PC1','PC2','PC3'])"
   ]
  },
  {
   "cell_type": "markdown",
   "metadata": {},
   "source": [
    "The first PC(PC1) gives a contrast between the average of PI, PT, LL, SS and GS against PR. The second PC (PC2) gives a contrast between the average of PR, GS, PT, LL against PI and SS. PC3 provides a contrast between the average of PI and PT against the average of LL, SS, PR and GS."
   ]
  },
  {
   "cell_type": "code",
   "execution_count": 15,
   "metadata": {},
   "outputs": [
    {
     "data": {
      "text/html": [
       "<div>\n",
       "<style scoped>\n",
       "    .dataframe tbody tr th:only-of-type {\n",
       "        vertical-align: middle;\n",
       "    }\n",
       "\n",
       "    .dataframe tbody tr th {\n",
       "        vertical-align: top;\n",
       "    }\n",
       "\n",
       "    .dataframe thead th {\n",
       "        text-align: right;\n",
       "    }\n",
       "</style>\n",
       "<table border=\"1\" class=\"dataframe\">\n",
       "  <thead>\n",
       "    <tr style=\"text-align: right;\">\n",
       "      <th></th>\n",
       "      <th>PC4</th>\n",
       "      <th>PC5</th>\n",
       "      <th>PC6</th>\n",
       "    </tr>\n",
       "  </thead>\n",
       "  <tbody>\n",
       "    <tr>\n",
       "      <th>PI</th>\n",
       "      <td>-0.102799</td>\n",
       "      <td>-0.423458</td>\n",
       "      <td>7.172898e-01</td>\n",
       "    </tr>\n",
       "    <tr>\n",
       "      <th>PT</th>\n",
       "      <td>-0.006441</td>\n",
       "      <td>-0.150562</td>\n",
       "      <td>-4.164920e-01</td>\n",
       "    </tr>\n",
       "    <tr>\n",
       "      <th>LL</th>\n",
       "      <td>-0.548100</td>\n",
       "      <td>0.676770</td>\n",
       "      <td>-1.456789e-11</td>\n",
       "    </tr>\n",
       "    <tr>\n",
       "      <th>SS</th>\n",
       "      <td>-0.127201</td>\n",
       "      <td>-0.431500</td>\n",
       "      <td>-5.585962e-01</td>\n",
       "    </tr>\n",
       "    <tr>\n",
       "      <th>PR</th>\n",
       "      <td>-0.174213</td>\n",
       "      <td>-0.275763</td>\n",
       "      <td>-3.446637e-12</td>\n",
       "    </tr>\n",
       "    <tr>\n",
       "      <th>GS</th>\n",
       "      <td>0.801528</td>\n",
       "      <td>0.278852</td>\n",
       "      <td>8.303502e-12</td>\n",
       "    </tr>\n",
       "  </tbody>\n",
       "</table>\n",
       "</div>"
      ],
      "text/plain": [
       "         PC4       PC5           PC6\n",
       "PI -0.102799 -0.423458  7.172898e-01\n",
       "PT -0.006441 -0.150562 -4.164920e-01\n",
       "LL -0.548100  0.676770 -1.456789e-11\n",
       "SS -0.127201 -0.431500 -5.585962e-01\n",
       "PR -0.174213 -0.275763 -3.446637e-12\n",
       "GS  0.801528  0.278852  8.303502e-12"
      ]
     },
     "execution_count": 15,
     "metadata": {},
     "output_type": "execute_result"
    }
   ],
   "source": [
    "pd.DataFrame(W[:,3:6],index=df.columns[:-1],columns=['PC4','PC5','PC6'])"
   ]
  },
  {
   "cell_type": "markdown",
   "metadata": {},
   "source": [
    "The  PC4 gives a contrast between the average of PI, PT, LL, SS and GS against PR. The PC5 gives a contrast between the average of PR, PI, SS, PT against LL and GS. PC6 provides a contrast between the average of PI and GS against the average of LL, SS, PR and PT"
   ]
  },
  {
   "cell_type": "code",
   "execution_count": 16,
   "metadata": {},
   "outputs": [
    {
     "data": {
      "text/html": [
       "<div>\n",
       "<style scoped>\n",
       "    .dataframe tbody tr th:only-of-type {\n",
       "        vertical-align: middle;\n",
       "    }\n",
       "\n",
       "    .dataframe tbody tr th {\n",
       "        vertical-align: top;\n",
       "    }\n",
       "\n",
       "    .dataframe thead th {\n",
       "        text-align: right;\n",
       "    }\n",
       "</style>\n",
       "<table border=\"1\" class=\"dataframe\">\n",
       "  <thead>\n",
       "    <tr style=\"text-align: right;\">\n",
       "      <th></th>\n",
       "      <th>Explained Variability</th>\n",
       "    </tr>\n",
       "  </thead>\n",
       "  <tbody>\n",
       "    <tr>\n",
       "      <th>1</th>\n",
       "      <td>0.540964</td>\n",
       "    </tr>\n",
       "    <tr>\n",
       "      <th>2</th>\n",
       "      <td>0.740061</td>\n",
       "    </tr>\n",
       "    <tr>\n",
       "      <th>3</th>\n",
       "      <td>0.866909</td>\n",
       "    </tr>\n",
       "    <tr>\n",
       "      <th>4</th>\n",
       "      <td>0.945664</td>\n",
       "    </tr>\n",
       "    <tr>\n",
       "      <th>5</th>\n",
       "      <td>1.000000</td>\n",
       "    </tr>\n",
       "    <tr>\n",
       "      <th>6</th>\n",
       "      <td>1.000000</td>\n",
       "    </tr>\n",
       "  </tbody>\n",
       "</table>\n",
       "</div>"
      ],
      "text/plain": [
       "   Explained Variability\n",
       "1               0.540964\n",
       "2               0.740061\n",
       "3               0.866909\n",
       "4               0.945664\n",
       "5               1.000000\n",
       "6               1.000000"
      ]
     },
     "execution_count": 16,
     "metadata": {},
     "output_type": "execute_result"
    }
   ],
   "source": [
    "pd.DataFrame(pca.explained_variance_ratio_.cumsum(),index=np.arange(X.shape[1])+1,columns=['Explained Variability'])"
   ]
  },
  {
   "cell_type": "markdown",
   "metadata": {},
   "source": [
    "Obviously, the first two components explain about 74% of the variability. So, we can work with these two components."
   ]
  },
  {
   "cell_type": "code",
   "execution_count": 18,
   "metadata": {},
   "outputs": [
    {
     "data": {
      "image/png": "[encoded data removed]",
      "text/plain": [
       "<Figure size 432x288 with 1 Axes>"
      ]
     },
     "metadata": {
      "needs_background": "light"
     },
     "output_type": "display_data"
    }
   ],
   "source": [
    "plt.bar(np.arange(1,X.shape[1]+1),pca.explained_variance_,color=\"blue\",edgecolor=\"Red\");"
   ]
  },
  {
   "cell_type": "markdown",
   "metadata": {},
   "source": [
    "There is an elbow on the second component, so we can choose the first two components."
   ]
  },
  {
   "cell_type": "code",
   "execution_count": 45,
   "metadata": {},
   "outputs": [
    {
     "data": {
      "image/png": "[encoded data removed]",
      "text/plain": [
       "<Figure size 432x288 with 1 Axes>"
      ]
     },
     "metadata": {
      "needs_background": "light"
     },
     "output_type": "display_data"
    }
   ],
   "source": [
    "y = pca.fit_transform(X)\n",
    "color_list = ['green' if i == 'Hernia' else 'red' if i == 'Normal' else \"blue\" for i in df.loc[:, 'Categories']]\n",
    "fig, ax = plt.subplots()\n",
    "ax.scatter(y[:, 0], y[:, 1], c=color_list, marker='o', label=['Hernia', 'Normal', 'Spondylolisthesis'], alpha=0.8)\n",
    "ax.legend(recs, ['Hernia', 'Normal', 'Spondylolisthesis'])\n",
    "plt.xlabel('PC1')\n",
    "plt.ylabel('PC2')\n",
    "\n",
    "Z = pd.DataFrame(columns=['PI', 'PT', 'LL', 'SS', 'PR', 'GS', 'Categories'])\n",
    "xs0 = y[:, 0]\n",
    "ys1 = y[:, 1]\n",
    "for i in range(len(W[:, 0])):\n",
    "    plt.arrow(np.mean(xs0), np.mean(ys1), W[i, 0]*abs(max(xs0)), W[i, 1]*abs(max(ys1)),\n",
    "              color='black', width=0.01, head_width=0.1)\n",
    "    plt.text(W[i, 0]*abs(max(xs0))+np.mean(xs0), +np.mean(ys1)+W[i, 1]*abs(max(ys1)),\n",
    "             list(Z.columns.values)[i], color='black')\n"
   ]
  },
  {
   "cell_type": "markdown",
   "metadata": {},
   "source": [
    "The points on the right side down the plot have large positive PC score1 and negative PC score 2. This says variables SS, PI, LL, GS, and PT are larger than their average compared to the rest of observations for these points. On the vertical axis, these points might have larger than average SS values or very smaller than average PR.\n",
    "There is one unusual observation which is a possible outlier."
   ]
  },
  {
   "cell_type": "code",
   "execution_count": 28,
   "metadata": {},
   "outputs": [
    {
     "data": {
      "text/plain": [
       "(array([115], dtype=int64),)"
      ]
     },
     "execution_count": 28,
     "metadata": {},
     "output_type": "execute_result"
    }
   ],
   "source": [
    "np.where(y[:,0]>7)\n"
   ]
  },
  {
   "cell_type": "markdown",
   "metadata": {},
   "source": [
    "Based on the biplot, we can say the responsible factor might be extremely large values on SS, PI, LL and GS. This point might have a small value on PR as well.\n",
    "Let’s take a look at this observation:"
   ]
  },
  {
   "cell_type": "code",
   "execution_count": 29,
   "metadata": {},
   "outputs": [
    {
     "data": {
      "text/plain": [
       "PI                      129.834\n",
       "PT                      8.40448\n",
       "LL                      48.3841\n",
       "SS                       121.43\n",
       "PR                       107.69\n",
       "GS                      418.543\n",
       "Categories    Spondylolisthesis\n",
       "Name: 115, dtype: object"
      ]
     },
     "execution_count": 29,
     "metadata": {},
     "output_type": "execute_result"
    }
   ],
   "source": [
    "df.iloc[115,]"
   ]
  },
  {
   "cell_type": "markdown",
   "metadata": {},
   "source": [
    "Compare it to the maximum values of the variables:"
   ]
  },
  {
   "cell_type": "code",
   "execution_count": 30,
   "metadata": {},
   "outputs": [
    {
     "data": {
      "text/plain": [
       "PI                      129.834\n",
       "PT                      49.4319\n",
       "LL                      125.742\n",
       "SS                       121.43\n",
       "PR                      163.071\n",
       "GS                      418.543\n",
       "Categories    Spondylolisthesis\n",
       "dtype: object"
      ]
     },
     "execution_count": 30,
     "metadata": {},
     "output_type": "execute_result"
    }
   ],
   "source": [
    "df.agg('max')"
   ]
  },
  {
   "cell_type": "markdown",
   "metadata": {},
   "source": [
    "The comparison shows that this observation takes the maximum values on three variables including PI, SS and GS, and that’s why it is located far from the cloud of data."
   ]
  }
 ],
 "metadata": {
  "kernelspec": {
   "display_name": "Python 3",
   "language": "python",
   "name": "python3"
  },
  "language_info": {
   "codemirror_mode": {
    "name": "ipython",
    "version": 3
   },
   "file_extension": ".py",
   "mimetype": "text/x-python",
   "name": "python",
   "nbconvert_exporter": "python",
   "pygments_lexer": "ipython3",
   "version": "3.8.5"
  }
 },
 "nbformat": 4,
 "nbformat_minor": 4
}
